{
 "cells": [
  {
   "cell_type": "markdown",
   "metadata": {},
   "source": [
    "# Lab 1 Exercises for COMP 472 (Artificial Intelligence)\n",
    "Note: This tutorial is a slightly modified version of Dr. Andrew Delong's Python exercise used in COMP 6321."
   ]
  },
  {
   "cell_type": "markdown",
   "metadata": {},
   "source": [
    "This is a Jupyter Notebook.\n",
    "\n",
    "When you opened it, the Jupyter server started a new Python interpreter to run the code you type in the cells.\n",
    "\n",
    "* **To edit a code cell**, click inside its text box. A green border should appear.\n",
    "* **To run the selected cell**, hit Ctrl+Enter.\n",
    "\n",
    "Try typing `3+4` into the cell below and run it with Ctrl+Enter. You should see `7` appear in the output."
   ]
  },
  {
   "cell_type": "code",
   "execution_count": null,
   "metadata": {},
   "outputs": [],
   "source": []
  },
  {
   "cell_type": "markdown",
   "metadata": {},
   "source": [
    "This lab notebook has three types of cells:\n",
    "1. **Instruction cells** explain what you're supposed to do; don't bother trying to edit them, even though you can select them.\n",
    "2. **Code cells for answers** are where you should write your code answers, after reading the instructions.\n",
    "3. **Code cells for checking answers** come with code and can be run to help you check your answer, if applicable.\n",
    "\n"
   ]
  },
  {
   "cell_type": "markdown",
   "metadata": {},
   "source": [
    "<div style=\"border-bottom: 3px solid black; margin-bottom:5px\"></div>\n",
    "<div style=\"border-bottom: 3px solid black\"></div>\n",
    "\n",
    "## 1. Python language exercises\n",
    "\n",
    "Exercises 1.1&ndash;1.4 help to asses your understanding of the Python programming language and how it works. They assume intermediate-level Python expertise, so beginners will find them very challenging, but that is OK &mdash; keep learning until they make sense! Use the [Python language review](python.html) and ask TAs for help."
   ]
  },
  {
   "cell_type": "markdown",
   "metadata": {},
   "source": [
    "<div style=\"border-bottom: 3px solid black;\"></div>\n",
    "\n",
    "### Exercise 1.1\n",
    "The [Python language review](python.html) for this course contains a diagram of how a list object holds references to the other objects that are \"in\" the list. Go look at the example diagram in the \"List\" section.\n",
    "\n",
    "Now consider the diagram below:\n",
    "![image](img/fig-list-references-exercise.png)\n",
    "It depicts two list objects, an integer object, a float object, and a string object.\n",
    "\n",
    "**Write Python code** that creates objects in memory as depicted in the diagram, including the references shown. Write your code in the cell below. Aim for 3 lines of code, and try not to create any extra (temporary) objects not shown."
   ]
  },
  {
   "cell_type": "code",
   "execution_count": null,
   "metadata": {},
   "outputs": [],
   "source": []
  },
  {
   "cell_type": "markdown",
   "metadata": {},
   "source": [
    "**Check your answer** by running the code cell below."
   ]
  },
  {
   "cell_type": "code",
   "execution_count": null,
   "metadata": {},
   "outputs": [],
   "source": [
    "assert 'x' in globals(), \"You didn't define variable 'x'\"\n",
    "assert 'y' in globals(), \"You didn't define variable 'y'\"\n",
    "assert isinstance(x, list), \"Variable 'x' should refer to a list object\"\n",
    "assert isinstance(y, list), \"Variable 'y' should refer to a list object\"\n",
    "assert len(x) == 3, \"The list object referred to by 'x' should have length 3\"\n",
    "assert len(y) == 2, \"The list object referred to by 'y' should have length 2\"\n",
    "assert isinstance(x[0], int)   and x[0] == 1,   \"Slot x[0] should refer to an int object with value 1\"\n",
    "assert isinstance(x[1], float) and x[1] == 2.0, \"Slot x[1] should refer to a float object with value 2.0\"\n",
    "assert isinstance(x[2], str)   and x[2] == '3', \"Slot x[2] should refer to a string object with value '3'\"\n",
    "assert y[0] is x[2], \"Slot y[0] should refer to the same object as slot x[2]\"\n",
    "assert y[1] is y,    \"Slot y[1] should refer to the same list object that variable 'y' does\"\n",
    "print('Correct!')"
   ]
  },
  {
   "cell_type": "markdown",
   "metadata": {},
   "source": [
    "<div style=\"border-bottom: 3px solid black;\"></div>\n",
    "\n",
    "### Exercise 1.2 &ndash; Filtering a list\n",
    "Suppose you are given a sequence _x_ containing numbers. You are asked to write a function that returns a new sequence containing only those items that were _strictly above_ a certain threshold. In other words, your function should 'filter' the sequence according to a threshold.\n",
    "\n",
    "**Write two versions of the function:**\n",
    "1. The first version should use a standard Python for-loop and return a list. Aim for 5 lines of code inside the function.\n",
    "2. The second version should use list comprehension and return a list. Aim for 1 line.\n",
    "\n",
    "Enter all two answers in the code cell below."
   ]
  },
  {
   "cell_type": "code",
   "execution_count": null,
   "metadata": {},
   "outputs": [],
   "source": [
    "def filter1(x, threshold):\n",
    "    # Your answer here\n",
    "\n",
    "def filter2(x, threshold):\n",
    "    # Your answer here\n"
   ]
  },
  {
   "cell_type": "markdown",
   "metadata": {},
   "source": [
    "**Check your answer** by running the code cell below."
   ]
  },
  {
   "cell_type": "code",
   "execution_count": null,
   "metadata": {},
   "outputs": [],
   "source": [
    "x = [1, 9, 2, 8, 3, 7, 4, 6, 5]\n",
    "for threshold in range(10):\n",
    "    y = filter1(x, threshold)\n",
    "    assert isinstance(y, list), \"filter1 was supposed to return a list object\"\n",
    "    assert len(y) == len(x) - threshold, \"filter1 returned wrong number of items\"\n",
    "    assert all([yi > threshold for yi in y])\n",
    "for threshold in range(10):\n",
    "    y = filter2(x, threshold)\n",
    "    assert isinstance(y, list), \"filter2 was supposed to return a list object\"\n",
    "    assert len(y) == len(x) - threshold, \"filter2 returned wrong number of items\"\n",
    "    assert all([yi > threshold for yi in y])\n",
    "\n",
    "print(\"Correct!\")"
   ]
  },
  {
   "cell_type": "markdown",
   "metadata": {},
   "source": [
    "<div style=\"border-bottom: 3px solid black;\"></div>\n",
    "\n",
    "### Exercise 1.3 Storing a dictionary to a file\n",
    "\n",
    "Suppose you ran a machine learning experiment and found that the following configuration worked best:\n",
    "\n",
    "```\n",
    "learning_rate = 0.01\n",
    "training_steps = 350\n",
    "weight_decay = 0.05\n",
    "```\n",
    "\n",
    "(Don't worry about what these variable names actually mean, you will by the end of the course.)\n",
    "\n",
    "**Write code to save these settings in a file.** You should put the above values in a Python dictionary object, then save the object to a file called `exercise13.pkl` using the `pickle` module. See the \"Serialization\" section of the [Python language review](python.html) for an example.\n",
    "\n",
    "(Note that in practice it's better and more secure to store human-readable configurations as a JSON file, rather than a binary format like pickle, but start by learning pickle!)"
   ]
  },
  {
   "cell_type": "code",
   "execution_count": null,
   "metadata": {},
   "outputs": [],
   "source": [
    "# Your code here"
   ]
  },
  {
   "cell_type": "markdown",
   "metadata": {},
   "source": [
    "**Check your answer** by running the code cell below."
   ]
  },
  {
   "cell_type": "code",
   "execution_count": null,
   "metadata": {},
   "outputs": [],
   "source": [
    "assert 'pickle' in globals(), \"You forgot to import the pickle module!\"\n",
    "import os\n",
    "assert os.path.exists('exercise13.pkl'), \"File 'exercise13.pkl' doesn't seem to exist! Did you write it?\"\n",
    "with open('exercise13.pkl', 'rb') as f:\n",
    "    config = pickle.load(f)\n",
    "assert isinstance(config, dict), \"Expected a single dictionary object in the file!\"\n",
    "assert len(config) == 3, \"Expected 3 keys in the dictionary!\"\n",
    "for key, value in zip(('learning_rate', 'training_steps', 'weight_decay'), (0.01, 350, 0.05)):\n",
    "    assert key in config, \"Expected '%s' to be a key in the dictionary\" % key\n",
    "    assert config[key] == value, \"Expected value for '%s' to be %s\" % (key, value)\n",
    "print(\"Correct!\")"
   ]
  },
  {
   "cell_type": "markdown",
   "metadata": {},
   "source": [
    "<div style=\"border-bottom: 3px solid black; margin-bottom:5px\"></div>\n",
    "<div style=\"border-bottom: 3px solid black;\"></div>\n",
    "\n",
    "## 2. Numpy exercises\n",
    "\n",
    "First, in the code cell below, write a line of code to import the Numpy package in the standard way, then run the code cell."
   ]
  },
  {
   "cell_type": "code",
   "execution_count": null,
   "metadata": {},
   "outputs": [],
   "source": [
    " # Import the numpy module here"
   ]
  },
  {
   "cell_type": "markdown",
   "metadata": {},
   "source": [
    "If you imported Numpy correctly, you should be able to run the code cell below without error."
   ]
  },
  {
   "cell_type": "code",
   "execution_count": null,
   "metadata": {},
   "outputs": [],
   "source": [
    "assert 'numpy' not in globals(), \"You didn't import numpy the standard way. Do Kernel->Restart and then try again.\"\n",
    "assert 'np' in globals(), \"You didn't import numpy the standard way. Do Kernel->Restart and then try again.\"\n",
    "print(\"Ready!\")"
   ]
  },
  {
   "cell_type": "markdown",
   "metadata": {},
   "source": [
    "<div style=\"border-bottom: 3px solid black;\"></div>\n",
    "\n",
    "### Exercise 2.1\n",
    "Suppose you are given the function below, where _x_ is a two-dimensional ndarray of numbers. You can assume _x_ is not empty (has at least one item)."
   ]
  },
  {
   "cell_type": "code",
   "execution_count": null,
   "metadata": {},
   "outputs": [],
   "source": [
    "def exercise21_loop(x):\n",
    "    n, m = x.shape\n",
    "    v = x[0,0]\n",
    "    for i in range(n):\n",
    "        for j in range(m):\n",
    "            if x[i,j] < v:\n",
    "                v = x[i,j]\n",
    "    \n",
    "    y = np.empty_like(x)\n",
    "    for i in range(n):\n",
    "        for j in range(m):\n",
    "            y[i,j] = x[i,j] - v\n",
    "            \n",
    "    return y"
   ]
  },
  {
   "cell_type": "markdown",
   "metadata": {},
   "source": [
    "You should know Python and Numpy well enough to understand what the above code does.\n",
    "\n",
    "**Write a new version of the function** that uses Numpy in a way that doesn't require Python for-loops. In other words, your solution should be completely _vectorized_. This is similar to writing good Matlab code. Write your answer in the code cell below. Aim for 1 line of code."
   ]
  },
  {
   "cell_type": "code",
   "execution_count": null,
   "metadata": {},
   "outputs": [],
   "source": [
    "def exercise21_vectorized(x):\n",
    "    # Your code here"
   ]
  },
  {
   "cell_type": "markdown",
   "metadata": {},
   "source": [
    "**Check your answer** by running the code cell below."
   ]
  },
  {
   "cell_type": "code",
   "execution_count": null,
   "metadata": {},
   "outputs": [],
   "source": [
    "assert 'exercise21_loop' in globals(), \"You forgot to run the code cell with the loop-based code!\"\n",
    "assert 'exercise21_vectorized' in globals(), \"You forgot to run the code cell with your answer!\"\n",
    "for i in range(10):\n",
    "    x = np.random.randint(100, size=(5, 3))\n",
    "    y = exercise21_vectorized(x)\n",
    "    y_correct = exercise21_loop(x)\n",
    "    assert isinstance(y, np.ndarray), \"You didn't return an ndarray object!\"\n",
    "    assert y.shape == x.shape, \"You returned an ndarray but of the wrong shape!\"\n",
    "    assert y.dtype == x.dtype, \"You returned an ndarray but of the wrong dtype!\"\n",
    "    assert np.array_equal(y, y_correct), \"Wrong result!\\nx:\\n%s\\nexpected:\\n%s\\nreturned:\\n%s\" % (x, y_correct, y)\n",
    "print(\"Correct!\")\n",
    "\n",
    "import timeit\n",
    "x = np.random.randint(1000, size=(200, 200))\n",
    "loop_time = timeit.timeit('exercise21_loop(x)',      setup=\"from __main__ import exercise21_loop, x\", number=10)\n",
    "vec_time = timeit.timeit('exercise21_vectorized(x)', setup=\"from __main__ import exercise21_vectorized, x\", number=10)\n",
    "print(\"You vectorized code ran %.1fx faster than the original code on a 200x200 matrix\" % (loop_time/vec_time))"
   ]
  },
  {
   "cell_type": "markdown",
   "metadata": {},
   "source": [
    "<div style=\"border-bottom: 3px solid black;\"></div>\n",
    "\n",
    "### Exercise 2.2 &ndash; Shuffle a pair of matrices\n",
    "\n",
    "Suppose you are given a pair of matrices $X \\in \\mathbb{R}^{m \\times n}$ and $Y \\in \\mathbb{R}^{m \\times k}$, and you must 'shuffle' their rows by the same permutation.\n",
    "\n",
    "For example, consider the pair\n",
    "\n",
    "$$\n",
    "X = \\begin{bmatrix}\n",
    "0 & 0\\\\\n",
    "0 & 1\\\\\n",
    "1 & 1\\\\\n",
    "\\end{bmatrix},\\;\n",
    "Y = \\begin{bmatrix}\n",
    "10\\\\\n",
    "20\\\\\n",
    "30\\\\\n",
    "\\end{bmatrix}.\n",
    "$$\n",
    "\n",
    "The following is a valid row-wise shuffle where new rows $(0,1,2)$ are taken from original rows $(1,2,0)$\n",
    "\n",
    "$$\n",
    "X = \\begin{bmatrix}\n",
    "0 & 1\\\\\n",
    "1 & 1\\\\\n",
    "0 & 0\\\\\n",
    "\\end{bmatrix},\\;\n",
    "Y = \\begin{bmatrix}\n",
    "20\\\\\n",
    "30\\\\\n",
    "10\\\\\n",
    "\\end{bmatrix}\n",
    "$$\n",
    "\n",
    "whereas the following is an _invalid_ row-wise shuffle because $X$ and $Y$ are not formed by the same permutation (their rows no longer match up)\n",
    "\n",
    "$$\n",
    "X = \\begin{bmatrix}\n",
    "0 & 1\\\\\n",
    "1 & 1\\\\\n",
    "0 & 0\\\\\n",
    "\\end{bmatrix},\\;\n",
    "Y = \\begin{bmatrix}\n",
    "30\\\\\n",
    "20\\\\\n",
    "10\\\\\n",
    "\\end{bmatrix}.\n",
    "$$\n",
    "\n",
    "**Write a function** that returns a new pair $X$ and $Y$ that are row-shuffled versions of the original arguments. Use Numpy's [permutation](https://www.numpy.org/devdocs/reference/generated/numpy.random.permutation.html) function. The rows of both $X$ and $Y$ should be shuffled by the same permutation, _not_ shuffled independently. Do not modify the original ndarray objects. If $X$ and $Y$ do not have the same number of rows, raise a _ValueError_ exception. Aim for 4 lines of code."
   ]
  },
  {
   "cell_type": "code",
   "execution_count": null,
   "metadata": {},
   "outputs": [],
   "source": [
    "def shuffle_dataset(X, Y):\n",
    "    \"\"\"Returns a pair of new ndarrays X, Y where the rows have been shuffled by a permutation.\n",
    "    \n",
    "    X and Y must refer to two ndarrays that have the same number of rows.\n",
    "    Does not modify the original X and Y ndarray objects.\n",
    "    \"\"\"\n",
    "    # Your code here"
   ]
  },
  {
   "cell_type": "markdown",
   "metadata": {},
   "source": [
    "**Check your answer** by running the code cell below."
   ]
  },
  {
   "cell_type": "code",
   "execution_count": null,
   "metadata": {},
   "outputs": [],
   "source": [
    "m, n, k = 4, 3, 2   # Check for X 4x3 and Y 4x2 ndarrays\n",
    "num_trials = 500    # Should be enough trials to see all (m!) possible shuffles\n",
    "perms = set()       # Collect all unique permutations we've seen returned by the student code using this set\n",
    "X = np.arange(m*n).reshape((m, n))\n",
    "Y = np.arange(m*k).reshape((m, k))\n",
    "for i in range(num_trials):\n",
    "    Xarg = X.copy()\n",
    "    Yarg = Y.copy()\n",
    "    Xnew, Ynew = shuffle_dataset(Xarg, Yarg)  # Run the student code    \n",
    "    assert np.array_equal(Xarg, X), \"Your code wasn't supposed to modify the X argument:\\n%s vs\\n%s\" % (Xarg, X)\n",
    "    assert np.array_equal(Yarg, Y), \"Your code wasn't supposed to modify the Y argument:\\n%s vs\\n%s\" % (Yarg, Y)\n",
    "    Xperm = np.argsort(Xnew[:,0])  # Undo the permutation via sorting, since original\n",
    "    Yperm = np.argsort(Ynew[:,0])  # array elements were increasing by row\n",
    "    assert np.array_equal(Xnew[Xperm], X), \"Your code didn't return a row permutation of X:\\n%s vs\\n%s\" % (Xout, X)\n",
    "    assert np.array_equal(Ynew[Yperm], Y), \"Your code didn't return a row permutation of Y:\\n%s vs\\n%s\" % (Yout, Y)\n",
    "    assert np.array_equal(Xperm, Yperm), \"Your code didn't return the same row permutation for X and Y\"\n",
    "    perms.add(tuple(Xperm))  # Count the number of times this permutation was encountered\n",
    "\n",
    "if len(perms) != 24:\n",
    "    print(\"Warning: observed %d of 24 possible permutations after %d trials.\" % (len(perms), num_trials))\n",
    "else:\n",
    "    try:\n",
    "        shuffle_dataset(X[:-1], Y)  # Run the student code with invalid input\n",
    "    except ValueError:\n",
    "        print(\"Looks good!\")\n",
    "    else:\n",
    "        raise AssertionError(\"Your code was supposed to raise a ValueError\"\n",
    "                             \"if X and Y had different number of rows\")"
   ]
  }
 ],
 "metadata": {
  "kernelspec": {
   "display_name": "Python 3",
   "language": "python",
   "name": "python3"
  },
  "language_info": {
   "codemirror_mode": {
    "name": "ipython",
    "version": 3
   },
   "file_extension": ".py",
   "mimetype": "text/x-python",
   "name": "python",
   "nbconvert_exporter": "python",
   "pygments_lexer": "ipython3",
   "version": "3.8.5"
  }
 },
 "nbformat": 4,
 "nbformat_minor": 2
}
